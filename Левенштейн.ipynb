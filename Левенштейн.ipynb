{
 "cells": [
  {
   "cell_type": "code",
   "execution_count": 1,
   "id": "6ccf7325",
   "metadata": {},
   "outputs": [],
   "source": [
    "import numpy as np"
   ]
  },
  {
   "cell_type": "code",
   "execution_count": 26,
   "id": "d1866b39",
   "metadata": {},
   "outputs": [
    {
     "data": {
      "text/plain": [
       "array([[ 0.,  1.,  2.,  3.,  4.,  5.,  6.,  7.,  8.,  9., 10.],\n",
       "       [ 1.,  1.,  2.,  3.,  4.,  5.,  6.,  7.,  8.,  9., 10.],\n",
       "       [ 2.,  2.,  2.,  3.,  4.,  5.,  6.,  7.,  8.,  9., 10.],\n",
       "       [ 3.,  3.,  3.,  3.,  4.,  4.,  5.,  6.,  7.,  8.,  9.],\n",
       "       [ 4.,  4.,  4.,  3.,  4.,  5.,  5.,  6.,  7.,  8.,  9.],\n",
       "       [ 5.,  5.,  5.,  4.,  4.,  5.,  6.,  6.,  7.,  8.,  9.],\n",
       "       [ 6.,  6.,  6.,  5.,  5.,  5.,  6.,  7.,  7.,  8.,  9.],\n",
       "       [ 7.,  7.,  7.,  6.,  6.,  6.,  6.,  6.,  7.,  8.,  9.],\n",
       "       [ 8.,  8.,  8.,  7.,  6.,  7.,  7.,  7.,  7.,  8.,  9.],\n",
       "       [ 9.,  9.,  9.,  8.,  7.,  7.,  8.,  8.,  8.,  7.,  8.],\n",
       "       [10., 10., 10.,  9.,  8.,  8.,  8.,  9.,  9.,  8.,  8.],\n",
       "       [11., 10., 11., 10.,  9.,  9.,  8.,  9., 10.,  9.,  9.]])"
      ]
     },
     "execution_count": 26,
     "metadata": {},
     "output_type": "execute_result"
    }
   ],
   "source": [
    "w1 = list('перспектива')\n",
    "w2 = list('абстракция')\n",
    "\n",
    "lev_mat = np.zeros((len(w1)+1, len(w2)+1))\n",
    "lev_mat[0] = np.arange(0, len(w2)+1)\n",
    "lev_mat[:, 0] = np.arange(0, len(w1)+1)\n",
    "\n",
    "for i in range(len(w1)):\n",
    "    for j in range(len(w2)):\n",
    "        if w1[i] == w2[j]:\n",
    "            lev_mat[i+1, j+1] = lev_mat[i, j]\n",
    "        else:\n",
    "            lev_mat[i+1, j+1] = min(lev_mat[i, j+1], lev_mat[i+1, j], lev_mat[i, j])+1\n",
    "            \n",
    "lev_mat\n"
   ]
  },
  {
   "cell_type": "code",
   "execution_count": null,
   "id": "40349caf",
   "metadata": {},
   "outputs": [],
   "source": []
  }
 ],
 "metadata": {
  "kernelspec": {
   "display_name": "nlp",
   "language": "python",
   "name": "python3"
  },
  "language_info": {
   "codemirror_mode": {
    "name": "ipython",
    "version": 3
   },
   "file_extension": ".py",
   "mimetype": "text/x-python",
   "name": "python",
   "nbconvert_exporter": "python",
   "pygments_lexer": "ipython3",
   "version": "3.11.0"
  }
 },
 "nbformat": 4,
 "nbformat_minor": 5
}
