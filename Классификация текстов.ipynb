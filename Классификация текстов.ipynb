{
 "cells": [
  {
   "cell_type": "code",
   "execution_count": 1,
   "id": "798dfcf9",
   "metadata": {},
   "outputs": [],
   "source": [
    "import pandas as pd\n",
    "import numpy as np\n",
    "from sklearn.model_selection import train_test_split\n",
    "from sklearn.feature_extraction.text import TfidfVectorizer\n",
    "from sklearn.ensemble import RandomForestClassifier\n",
    "from sklearn.metrics import confusion_matrix\n",
    "from sklearn.metrics import precision_score\n",
    "from sklearn.metrics import classification_report\n",
    "import scipy as sp"
   ]
  },
  {
   "cell_type": "code",
   "execution_count": 2,
   "id": "82329c75",
   "metadata": {},
   "outputs": [
    {
     "data": {
      "text/html": [
       "<div>\n",
       "<style scoped>\n",
       "    .dataframe tbody tr th:only-of-type {\n",
       "        vertical-align: middle;\n",
       "    }\n",
       "\n",
       "    .dataframe tbody tr th {\n",
       "        vertical-align: top;\n",
       "    }\n",
       "\n",
       "    .dataframe thead th {\n",
       "        text-align: right;\n",
       "    }\n",
       "</style>\n",
       "<table border=\"1\" class=\"dataframe\">\n",
       "  <thead>\n",
       "    <tr style=\"text-align: right;\">\n",
       "      <th></th>\n",
       "      <th>class</th>\n",
       "      <th>date</th>\n",
       "      <th>from</th>\n",
       "      <th>to</th>\n",
       "      <th>subject</th>\n",
       "      <th>body</th>\n",
       "    </tr>\n",
       "  </thead>\n",
       "  <tbody>\n",
       "    <tr>\n",
       "      <th>0</th>\n",
       "      <td>0</td>\n",
       "      <td>4</td>\n",
       "      <td>info@global-change.com</td>\n",
       "      <td>michelle.lokay@enron.com</td>\n",
       "      <td>next wave energi trade</td>\n",
       "      <td>energi industri profession global chang associ...</td>\n",
       "    </tr>\n",
       "    <tr>\n",
       "      <th>1</th>\n",
       "      <td>0</td>\n",
       "      <td>1</td>\n",
       "      <td>info@pmaconference.com</td>\n",
       "      <td>michelle.lokay@enron.com</td>\n",
       "      <td>regist next txu capac auction</td>\n",
       "      <td>regist next txu energi capac auction new regis...</td>\n",
       "    </tr>\n",
       "    <tr>\n",
       "      <th>2</th>\n",
       "      <td>0</td>\n",
       "      <td>6</td>\n",
       "      <td>info@pmaconference.com</td>\n",
       "      <td>michelle.lokay@enron.com</td>\n",
       "      <td>merchant power monthli free sampl</td>\n",
       "      <td>merchant power monthli month s issu almost mw ...</td>\n",
       "    </tr>\n",
       "    <tr>\n",
       "      <th>3</th>\n",
       "      <td>0</td>\n",
       "      <td>3</td>\n",
       "      <td>bruno@firstconf.com</td>\n",
       "      <td>energynews@fc.ease.lsoft.com</td>\n",
       "      <td>eyeforenergi updat</td>\n",
       "      <td>welcom week s eyeforenergi updat refresh memor...</td>\n",
       "    </tr>\n",
       "    <tr>\n",
       "      <th>4</th>\n",
       "      <td>0</td>\n",
       "      <td>1</td>\n",
       "      <td>deanrogers@energyclasses.com</td>\n",
       "      <td>michelle.lokay@enron.com</td>\n",
       "      <td>deriv earli bird til march houston</td>\n",
       "      <td>deriv energi profession two full day april ear...</td>\n",
       "    </tr>\n",
       "    <tr>\n",
       "      <th>...</th>\n",
       "      <td>...</td>\n",
       "      <td>...</td>\n",
       "      <td>...</td>\n",
       "      <td>...</td>\n",
       "      <td>...</td>\n",
       "      <td>...</td>\n",
       "    </tr>\n",
       "    <tr>\n",
       "      <th>30687</th>\n",
       "      <td>1</td>\n",
       "      <td>3</td>\n",
       "      <td>jacob rzucidlo &lt;lavoneaker@stalag13.com&gt;</td>\n",
       "      <td>johnny wynott &lt;varou@iit.demokritos.gr&gt;</td>\n",
       "      <td>cpu pain m edicati n ship d r</td>\n",
       "      <td>arrghh west amnstv amlsmith basu petrom qureai...</td>\n",
       "    </tr>\n",
       "    <tr>\n",
       "      <th>30688</th>\n",
       "      <td>1</td>\n",
       "      <td>5</td>\n",
       "      <td>hal leake &lt;annettgaskell@buglover.net&gt;</td>\n",
       "      <td>renato mooney &lt;sigletos@iit.demokritos.gr&gt;</td>\n",
       "      <td>dn troubl f r ee</td>\n",
       "      <td>dn troubl f r ee angiospasma zekauskasa anarti...</td>\n",
       "    </tr>\n",
       "    <tr>\n",
       "      <th>30689</th>\n",
       "      <td>1</td>\n",
       "      <td>2</td>\n",
       "      <td>dr collins khumalo &lt;khumalo_20@sunumail.sn&gt;</td>\n",
       "      <td>khumalo_20@sunumail.sn</td>\n",
       "      <td>dr collin khumalo</td>\n",
       "      <td>dr collin khumalo attn mr presid dr collin khu...</td>\n",
       "    </tr>\n",
       "    <tr>\n",
       "      <th>30690</th>\n",
       "      <td>1</td>\n",
       "      <td>6</td>\n",
       "      <td>Customer Support &lt;support@citibank.com&gt;</td>\n",
       "      <td>Paliourg &lt;paliourg@iit.demokritos.gr&gt;</td>\n",
       "      <td>dear custom detail compromis</td>\n",
       "      <td>dear custom detail compromis dear custom recen...</td>\n",
       "    </tr>\n",
       "    <tr>\n",
       "      <th>30691</th>\n",
       "      <td>1</td>\n",
       "      <td>6</td>\n",
       "      <td>Tapanga Cribbin &lt;James_Lam@cnwl.igs.net&gt;</td>\n",
       "      <td>paliourg@iit.demokritos.gr</td>\n",
       "      <td>fwd great news</td>\n",
       "      <td>state shall without consent congress lay impos...</td>\n",
       "    </tr>\n",
       "  </tbody>\n",
       "</table>\n",
       "<p>29890 rows × 6 columns</p>\n",
       "</div>"
      ],
      "text/plain": [
       "       class  date                                         from  \\\n",
       "0          0     4                       info@global-change.com   \n",
       "1          0     1                       info@pmaconference.com   \n",
       "2          0     6                       info@pmaconference.com   \n",
       "3          0     3                          bruno@firstconf.com   \n",
       "4          0     1                 deanrogers@energyclasses.com   \n",
       "...      ...   ...                                          ...   \n",
       "30687      1     3     jacob rzucidlo <lavoneaker@stalag13.com>   \n",
       "30688      1     5       hal leake <annettgaskell@buglover.net>   \n",
       "30689      1     2  dr collins khumalo <khumalo_20@sunumail.sn>   \n",
       "30690      1     6      Customer Support <support@citibank.com>   \n",
       "30691      1     6     Tapanga Cribbin <James_Lam@cnwl.igs.net>   \n",
       "\n",
       "                                               to  \\\n",
       "0                        michelle.lokay@enron.com   \n",
       "1                        michelle.lokay@enron.com   \n",
       "2                        michelle.lokay@enron.com   \n",
       "3                    energynews@fc.ease.lsoft.com   \n",
       "4                        michelle.lokay@enron.com   \n",
       "...                                           ...   \n",
       "30687     johnny wynott <varou@iit.demokritos.gr>   \n",
       "30688  renato mooney <sigletos@iit.demokritos.gr>   \n",
       "30689                      khumalo_20@sunumail.sn   \n",
       "30690       Paliourg <paliourg@iit.demokritos.gr>   \n",
       "30691                  paliourg@iit.demokritos.gr   \n",
       "\n",
       "                                  subject  \\\n",
       "0                  next wave energi trade   \n",
       "1           regist next txu capac auction   \n",
       "2       merchant power monthli free sampl   \n",
       "3                      eyeforenergi updat   \n",
       "4      deriv earli bird til march houston   \n",
       "...                                   ...   \n",
       "30687       cpu pain m edicati n ship d r   \n",
       "30688                    dn troubl f r ee   \n",
       "30689                   dr collin khumalo   \n",
       "30690        dear custom detail compromis   \n",
       "30691                      fwd great news   \n",
       "\n",
       "                                                    body  \n",
       "0      energi industri profession global chang associ...  \n",
       "1      regist next txu energi capac auction new regis...  \n",
       "2      merchant power monthli month s issu almost mw ...  \n",
       "3      welcom week s eyeforenergi updat refresh memor...  \n",
       "4      deriv energi profession two full day april ear...  \n",
       "...                                                  ...  \n",
       "30687  arrghh west amnstv amlsmith basu petrom qureai...  \n",
       "30688  dn troubl f r ee angiospasma zekauskasa anarti...  \n",
       "30689  dr collin khumalo attn mr presid dr collin khu...  \n",
       "30690  dear custom detail compromis dear custom recen...  \n",
       "30691  state shall without consent congress lay impos...  \n",
       "\n",
       "[29890 rows x 6 columns]"
      ]
     },
     "execution_count": 2,
     "metadata": {},
     "output_type": "execute_result"
    }
   ],
   "source": [
    "df = pd.read_csv('Task_1_prepprocessed.csv')\n",
    "df = df.dropna()\n",
    "df"
   ]
  },
  {
   "cell_type": "code",
   "execution_count": 10,
   "id": "0498a15c",
   "metadata": {},
   "outputs": [],
   "source": [
    "x_train, x_test, y_train, y_test = train_test_split(df.iloc[:, 5], df.iloc[:,0], test_size=0.25, random_state=100)"
   ]
  },
  {
   "cell_type": "markdown",
   "id": "48c62fec",
   "metadata": {},
   "source": [
    "## Конкатация колонок subject - body"
   ]
  },
  {
   "cell_type": "code",
   "execution_count": 6,
   "id": "f15db457",
   "metadata": {},
   "outputs": [
    {
     "data": {
      "text/html": [
       "<div>\n",
       "<style scoped>\n",
       "    .dataframe tbody tr th:only-of-type {\n",
       "        vertical-align: middle;\n",
       "    }\n",
       "\n",
       "    .dataframe tbody tr th {\n",
       "        vertical-align: top;\n",
       "    }\n",
       "\n",
       "    .dataframe thead th {\n",
       "        text-align: right;\n",
       "    }\n",
       "</style>\n",
       "<table border=\"1\" class=\"dataframe\">\n",
       "  <thead>\n",
       "    <tr style=\"text-align: right;\">\n",
       "      <th></th>\n",
       "      <th>date</th>\n",
       "      <th>body</th>\n",
       "    </tr>\n",
       "  </thead>\n",
       "  <tbody>\n",
       "    <tr>\n",
       "      <th>216</th>\n",
       "      <td>4</td>\n",
       "      <td>fw california capac report week transwestern s...</td>\n",
       "    </tr>\n",
       "    <tr>\n",
       "      <th>11901</th>\n",
       "      <td>0</td>\n",
       "      <td>child center tour thank thank much take time b...</td>\n",
       "    </tr>\n",
       "    <tr>\n",
       "      <th>21659</th>\n",
       "      <td>2</td>\n",
       "      <td>book friend talk get danger book world book a ...</td>\n",
       "    </tr>\n",
       "    <tr>\n",
       "      <th>2775</th>\n",
       "      <td>2</td>\n",
       "      <td>mobil beaumont mar rebecca mobil march begin m...</td>\n",
       "    </tr>\n",
       "    <tr>\n",
       "      <th>8057</th>\n",
       "      <td>0</td>\n",
       "      <td>fyi discu neg ctc cpuc cdwr cent surcharg pass...</td>\n",
       "    </tr>\n",
       "    <tr>\n",
       "      <th>...</th>\n",
       "      <td>...</td>\n",
       "      <td>...</td>\n",
       "    </tr>\n",
       "    <tr>\n",
       "      <th>12272</th>\n",
       "      <td>3</td>\n",
       "      <td>notic probat would like pa sharad s probationa...</td>\n",
       "    </tr>\n",
       "    <tr>\n",
       "      <th>25015</th>\n",
       "      <td>0</td>\n",
       "      <td>healthi live everyday life improv sexual life ...</td>\n",
       "    </tr>\n",
       "    <tr>\n",
       "      <th>14335</th>\n",
       "      <td>0</td>\n",
       "      <td>sevil yamen ann thank vinc ann labbe enron enr...</td>\n",
       "    </tr>\n",
       "    <tr>\n",
       "      <th>23872</th>\n",
       "      <td>1</td>\n",
       "      <td>offic softwar wholesal price get popular softw...</td>\n",
       "    </tr>\n",
       "    <tr>\n",
       "      <th>5692</th>\n",
       "      <td>1</td>\n",
       "      <td>pasadena plant phillip lehrer meter flow maxey...</td>\n",
       "    </tr>\n",
       "  </tbody>\n",
       "</table>\n",
       "<p>22417 rows × 2 columns</p>\n",
       "</div>"
      ],
      "text/plain": [
       "       date                                               body\n",
       "216       4  fw california capac report week transwestern s...\n",
       "11901     0  child center tour thank thank much take time b...\n",
       "21659     2  book friend talk get danger book world book a ...\n",
       "2775      2  mobil beaumont mar rebecca mobil march begin m...\n",
       "8057      0  fyi discu neg ctc cpuc cdwr cent surcharg pass...\n",
       "...     ...                                                ...\n",
       "12272     3  notic probat would like pa sharad s probationa...\n",
       "25015     0  healthi live everyday life improv sexual life ...\n",
       "14335     0  sevil yamen ann thank vinc ann labbe enron enr...\n",
       "23872     1  offic softwar wholesal price get popular softw...\n",
       "5692      1  pasadena plant phillip lehrer meter flow maxey...\n",
       "\n",
       "[22417 rows x 2 columns]"
      ]
     },
     "execution_count": 6,
     "metadata": {},
     "output_type": "execute_result"
    }
   ],
   "source": [
    "df_copy = df.copy(deep = True)\n",
    "\n",
    "for i in range(len(df_copy)):\n",
    "    if df.iat[i, 4] != '':\n",
    "        try:\n",
    "            df_copy.iat[i, 5] = df_copy.iat[i, 4] + ' ' + df_copy.iat[i, 5]\n",
    "        except:\n",
    "            print(\"Something got wrong!\")\n",
    "            \n",
    "x_train_b, x_test_b, _, _ = train_test_split(\n",
    "    df_copy.iloc[:, [1, 5]], df_copy.iloc[:,0], test_size=0.25, random_state=100)\n",
    "\n",
    "x_train_b"
   ]
  },
  {
   "cell_type": "markdown",
   "id": "94723f71",
   "metadata": {},
   "source": [
    "# Метод 1"
   ]
  },
  {
   "cell_type": "markdown",
   "id": "dd3538e0",
   "metadata": {},
   "source": [
    "Базовый алгоритм, использующий в качестве признака только body"
   ]
  },
  {
   "cell_type": "code",
   "execution_count": 11,
   "id": "5c0b5670",
   "metadata": {},
   "outputs": [],
   "source": [
    "vectorizer_a = TfidfVectorizer() # Токенизация по TF-IDF \n",
    "\n",
    "x_train_a = vectorizer_a.fit_transform(x_train)\n",
    "x_test_a = vectorizer_a.transform(x_test)"
   ]
  },
  {
   "cell_type": "code",
   "execution_count": 12,
   "id": "5afae35e",
   "metadata": {},
   "outputs": [
    {
     "name": "stdout",
     "output_type": "stream",
     "text": [
      "              precision    recall  f1-score   support\n",
      "\n",
      "           0      0.947     0.989     0.968      3962\n",
      "           1      0.987     0.938     0.962      3511\n",
      "\n",
      "    accuracy                          0.965      7473\n",
      "   macro avg      0.967     0.964     0.965      7473\n",
      "weighted avg      0.966     0.965     0.965      7473\n",
      "\n"
     ]
    }
   ],
   "source": [
    "rfc_a = RandomForestClassifier(random_state=2000, n_jobs=10, n_estimators=10) # Случайный лес - классификация\n",
    "rfc_a.fit(x_train_a, y_train)\n",
    "y_pred_a = rfc_a.predict(x_test_a)\n",
    "print(classification_report(y_test, y_pred_a, digits=3))"
   ]
  },
  {
   "cell_type": "markdown",
   "id": "81399255",
   "metadata": {},
   "source": [
    "# Метод 2"
   ]
  },
  {
   "cell_type": "markdown",
   "id": "fa6a02e9",
   "metadata": {},
   "source": [
    "Признаки: body, subjects, день недели"
   ]
  },
  {
   "cell_type": "code",
   "execution_count": 13,
   "id": "e9cc396d",
   "metadata": {},
   "outputs": [],
   "source": [
    "vectorizer_b = TfidfVectorizer()\n",
    "# Добавляем к полученной в результате векторизации разреженной матрице столбец со значениями дней недели\n",
    "x_train_b = sp.sparse.hstack((vectorizer_b.fit_transform(x_train_b.iloc[:, 1]), x_train_b.iloc[:, 0].values.reshape(len(x_train_b.iloc[:, 0]),1)))\n",
    "x_test_b = sp.sparse.hstack((vectorizer_b.transform(x_test_b.iloc[:, 1]), x_test_b.iloc[:, 0].values.reshape(len(x_test_b.iloc[:, 0]),1)))"
   ]
  },
  {
   "cell_type": "code",
   "execution_count": 14,
   "id": "5b0cc77d",
   "metadata": {},
   "outputs": [
    {
     "name": "stdout",
     "output_type": "stream",
     "text": [
      "              precision    recall  f1-score   support\n",
      "\n",
      "           0      0.957     0.987     0.972      3962\n",
      "           1      0.985     0.950     0.967      3511\n",
      "\n",
      "    accuracy                          0.970      7473\n",
      "   macro avg      0.971     0.969     0.970      7473\n",
      "weighted avg      0.970     0.970     0.970      7473\n",
      "\n"
     ]
    }
   ],
   "source": [
    "rfc_b = RandomForestClassifier(random_state=2000, n_jobs=10, n_estimators=10)\n",
    "rfc_b.fit(x_train_b, y_train)\n",
    "y_pred_b = rfc_b.predict(x_test_b)\n",
    "print(classification_report(y_test, y_pred_b, digits=3))"
   ]
  },
  {
   "cell_type": "markdown",
   "id": "f959bfbb",
   "metadata": {},
   "source": [
    "# Метод 3"
   ]
  },
  {
   "cell_type": "markdown",
   "id": "f8518afb",
   "metadata": {},
   "source": [
    "ngram_range=(2, 2)"
   ]
  },
  {
   "cell_type": "code",
   "execution_count": 15,
   "id": "8227a2ee",
   "metadata": {},
   "outputs": [
    {
     "name": "stdout",
     "output_type": "stream",
     "text": [
      "              precision    recall  f1-score   support\n",
      "\n",
      "           0      0.968     0.959     0.964      3962\n",
      "           1      0.954     0.964     0.959      3511\n",
      "\n",
      "    accuracy                          0.962      7473\n",
      "   macro avg      0.961     0.962     0.961      7473\n",
      "weighted avg      0.962     0.962     0.962      7473\n",
      "\n"
     ]
    }
   ],
   "source": [
    "vectorizer_c = TfidfVectorizer(ngram_range = (2, 2))\n",
    "\n",
    "x_train_c = vectorizer_c.fit_transform(x_train)\n",
    "x_test_c = vectorizer_c.transform(x_test)\n",
    "\n",
    "rfc_c = RandomForestClassifier(random_state=2000, n_jobs=10, n_estimators=10)\n",
    "rfc_c.fit(x_train_c, y_train)\n",
    "y_pred_c = rfc_c.predict(x_test_c)\n",
    "print(classification_report(y_test, y_pred_c, digits=3))"
   ]
  },
  {
   "cell_type": "code",
   "execution_count": null,
   "id": "74984252",
   "metadata": {},
   "outputs": [],
   "source": []
  }
 ],
 "metadata": {
  "kernelspec": {
   "display_name": "lms_nlp",
   "language": "python",
   "name": "python3"
  },
  "language_info": {
   "codemirror_mode": {
    "name": "ipython",
    "version": 3
   },
   "file_extension": ".py",
   "mimetype": "text/x-python",
   "name": "python",
   "nbconvert_exporter": "python",
   "pygments_lexer": "ipython3",
   "version": "3.11.9"
  }
 },
 "nbformat": 4,
 "nbformat_minor": 5
}
