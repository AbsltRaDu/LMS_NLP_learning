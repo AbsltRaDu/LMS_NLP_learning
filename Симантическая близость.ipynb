{
 "cells": [
  {
   "cell_type": "markdown",
   "metadata": {
    "colab_type": "text",
    "id": "yLYpSPDlW9LC"
   },
   "source": [
    "## Скачиваем необходимое\n",
    "\n",
    "Сначала нужно средствами NLTK загрузить WordNet.\n",
    "\n"
   ]
  },
  {
   "cell_type": "code",
   "execution_count": 1,
   "metadata": {
    "colab": {
     "base_uri": "https://localhost:8080/",
     "height": 73
    },
    "colab_type": "code",
    "executionInfo": {
     "elapsed": 3804,
     "status": "ok",
     "timestamp": 1600020035301,
     "user": {
      "displayName": "Anton Alekseev",
      "photoUrl": "https://lh3.googleusercontent.com/a-/AOh14Gj3c5faIb1FbtmpoOW4fAhquuPiaBf1d85jPrZJ-g=s64",
      "userId": "02913249699061138905"
     },
     "user_tz": -180
    },
    "id": "YhTQ6EFXZ5R9",
    "outputId": "b9e976e9-2692-457d-b0ff-866869787d67"
   },
   "outputs": [
    {
     "name": "stderr",
     "output_type": "stream",
     "text": [
      "[nltk_data] Downloading package wordnet to\n",
      "[nltk_data]     /home/aleksandr/nltk_data...\n",
      "[nltk_data]   Package wordnet is already up-to-date!\n"
     ]
    },
    {
     "data": {
      "text/plain": [
       "True"
      ]
     },
     "execution_count": 1,
     "metadata": {},
     "output_type": "execute_result"
    }
   ],
   "source": [
    "import nltk\n",
    "from nltk.corpus import wordnet as wn\n",
    "nltk.download('wordnet')"
   ]
  },
  {
   "cell_type": "markdown",
   "metadata": {
    "colab_type": "text",
    "id": "EIQ4rEytvwLZ"
   },
   "source": [
    "## Готовим данные к работе\n",
    "\n",
    "Затем импортируем данные из подготовленного текстового файла. Файл содержит набор пар слов (только имён существительных), для которых известны экспертные оценки сходства.\n",
    "\n",
    "Строим ассоциативный массив \"пара слов -- оценка близости\"."
   ]
  },
  {
   "cell_type": "code",
   "execution_count": 2,
   "metadata": {
    "colab": {},
    "colab_type": "code",
    "executionInfo": {
     "elapsed": 2212,
     "status": "ok",
     "timestamp": 1600020038741,
     "user": {
      "displayName": "Anton Alekseev",
      "photoUrl": "https://lh3.googleusercontent.com/a-/AOh14Gj3c5faIb1FbtmpoOW4fAhquuPiaBf1d85jPrZJ-g=s64",
      "userId": "02913249699061138905"
     },
     "user_tz": -180
    },
    "id": "_sTFACx3dAk8"
   },
   "outputs": [],
   "source": [
    "with open(\"wordsim_similarity_goldstandard.txt\", encoding=\"utf-8\") as rf:\n",
    "  triples = [line.strip().split(\"\\t\") for line in rf.readlines()]\n",
    "  score_map = {tuple(triple[:2]): float(triple[2]) for triple in triples}"
   ]
  },
  {
   "cell_type": "code",
   "execution_count": 23,
   "metadata": {},
   "outputs": [
    {
     "data": {
      "text/plain": [
       "{('tiger', 'cat'): 7.35,\n",
       " ('tiger', 'tiger'): 10.0,\n",
       " ('plane', 'car'): 5.77,\n",
       " ('train', 'car'): 6.31,\n",
       " ('television', 'radio'): 6.77,\n",
       " ('media', 'radio'): 7.42,\n",
       " ('bread', 'butter'): 6.19,\n",
       " ('cucumber', 'potato'): 5.92,\n",
       " ('doctor', 'nurse'): 7.0,\n",
       " ('professor', 'doctor'): 6.62,\n",
       " ('student', 'professor'): 6.81,\n",
       " ('smart', 'stupid'): 5.81,\n",
       " ('wood', 'forest'): 7.73,\n",
       " ('money', 'cash'): 9.15,\n",
       " ('king', 'queen'): 8.58,\n",
       " ('king', 'rook'): 5.92,\n",
       " ('bishop', 'rabbi'): 6.69,\n",
       " ('fuck', 'sex'): 9.44,\n",
       " ('football', 'soccer'): 9.03,\n",
       " ('football', 'basketball'): 6.81,\n",
       " ('football', 'tennis'): 6.63,\n",
       " ('Arafat', 'Jackson'): 2.5,\n",
       " ('physics', 'chemistry'): 7.35,\n",
       " ('vodka', 'gin'): 8.46,\n",
       " ('vodka', 'brandy'): 8.13,\n",
       " ('drink', 'eat'): 6.87,\n",
       " ('car', 'automobile'): 8.94,\n",
       " ('gem', 'jewel'): 8.96,\n",
       " ('journey', 'voyage'): 9.29,\n",
       " ('boy', 'lad'): 8.83,\n",
       " ('coast', 'shore'): 9.1,\n",
       " ('asylum', 'madhouse'): 8.87,\n",
       " ('magician', 'wizard'): 9.02,\n",
       " ('midday', 'noon'): 9.29,\n",
       " ('furnace', 'stove'): 8.79,\n",
       " ('food', 'fruit'): 7.52,\n",
       " ('bird', 'cock'): 7.1,\n",
       " ('bird', 'crane'): 7.38,\n",
       " ('food', 'rooster'): 4.42,\n",
       " ('money', 'dollar'): 8.42,\n",
       " ('money', 'currency'): 9.04,\n",
       " ('tiger', 'jaguar'): 8.0,\n",
       " ('tiger', 'feline'): 8.0,\n",
       " ('tiger', 'carnivore'): 7.08,\n",
       " ('tiger', 'mammal'): 6.85,\n",
       " ('tiger', 'animal'): 7.0,\n",
       " ('tiger', 'organism'): 4.77,\n",
       " ('tiger', 'fauna'): 5.62,\n",
       " ('psychology', 'psychiatry'): 8.08,\n",
       " ('psychology', 'science'): 6.71,\n",
       " ('psychology', 'discipline'): 5.58,\n",
       " ('planet', 'star'): 8.45,\n",
       " ('planet', 'moon'): 8.08,\n",
       " ('planet', 'sun'): 8.02,\n",
       " ('precedent', 'example'): 5.85,\n",
       " ('precedent', 'antecedent'): 6.04,\n",
       " ('cup', 'tableware'): 6.85,\n",
       " ('cup', 'artifact'): 2.92,\n",
       " ('cup', 'object'): 3.69,\n",
       " ('cup', 'entity'): 2.15,\n",
       " ('jaguar', 'cat'): 7.42,\n",
       " ('jaguar', 'car'): 7.27,\n",
       " ('mile', 'kilometer'): 8.66,\n",
       " ('skin', 'eye'): 6.22,\n",
       " ('Japanese', 'American'): 6.5,\n",
       " ('century', 'year'): 7.59,\n",
       " ('announcement', 'news'): 7.56,\n",
       " ('doctor', 'personnel'): 5.0,\n",
       " ('Harvard', 'Yale'): 8.13,\n",
       " ('hospital', 'infrastructure'): 4.63,\n",
       " ('life', 'death'): 7.88,\n",
       " ('travel', 'activity'): 5.0,\n",
       " ('type', 'kind'): 8.97,\n",
       " ('street', 'place'): 6.44,\n",
       " ('street', 'avenue'): 8.88,\n",
       " ('street', 'block'): 6.88,\n",
       " ('cell', 'phone'): 7.81,\n",
       " ('dividend', 'payment'): 7.63,\n",
       " ('calculation', 'computation'): 8.44,\n",
       " ('profit', 'loss'): 7.63,\n",
       " ('dollar', 'yen'): 7.78,\n",
       " ('dollar', 'buck'): 9.22,\n",
       " ('phone', 'equipment'): 7.13,\n",
       " ('liquid', 'water'): 7.89,\n",
       " ('marathon', 'sprint'): 7.47,\n",
       " ('seafood', 'food'): 8.34,\n",
       " ('seafood', 'lobster'): 8.7,\n",
       " ('lobster', 'food'): 7.81,\n",
       " ('lobster', 'wine'): 5.7,\n",
       " ('championship', 'tournament'): 8.36,\n",
       " ('man', 'woman'): 8.3,\n",
       " ('man', 'governor'): 5.25,\n",
       " ('murder', 'manslaughter'): 8.53,\n",
       " ('opera', 'performance'): 6.88,\n",
       " ('Mexico', 'Brazil'): 7.44,\n",
       " ('glass', 'metal'): 5.56,\n",
       " ('aluminum', 'metal'): 7.83,\n",
       " ('rock', 'jazz'): 7.59,\n",
       " ('museum', 'theater'): 7.19,\n",
       " ('shower', 'thunderstorm'): 6.31,\n",
       " ('monk', 'oracle'): 5.0,\n",
       " ('cup', 'food'): 5.0,\n",
       " ('journal', 'association'): 4.97,\n",
       " ('street', 'children'): 4.94,\n",
       " ('car', 'flight'): 4.94,\n",
       " ('space', 'chemistry'): 4.88,\n",
       " ('situation', 'conclusion'): 4.81,\n",
       " ('word', 'similarity'): 4.75,\n",
       " ('peace', 'plan'): 4.75,\n",
       " ('consumer', 'energy'): 4.75,\n",
       " ('ministry', 'culture'): 4.69,\n",
       " ('smart', 'student'): 4.62,\n",
       " ('investigation', 'effort'): 4.59,\n",
       " ('image', 'surface'): 4.56,\n",
       " ('life', 'term'): 4.5,\n",
       " ('start', 'match'): 4.47,\n",
       " ('computer', 'news'): 4.47,\n",
       " ('board', 'recommendation'): 4.47,\n",
       " ('lad', 'brother'): 4.46,\n",
       " ('observation', 'architecture'): 4.38,\n",
       " ('coast', 'hill'): 4.38,\n",
       " ('deployment', 'departure'): 4.25,\n",
       " ('benchmark', 'index'): 4.25,\n",
       " ('attempt', 'peace'): 4.25,\n",
       " ('consumer', 'confidence'): 4.13,\n",
       " ('start', 'year'): 4.06,\n",
       " ('focus', 'life'): 4.06,\n",
       " ('development', 'issue'): 3.97,\n",
       " ('theater', 'history'): 3.91,\n",
       " ('situation', 'isolation'): 3.88,\n",
       " ('profit', 'warning'): 3.88,\n",
       " ('media', 'trading'): 3.88,\n",
       " ('chance', 'credibility'): 3.88,\n",
       " ('precedent', 'information'): 3.85,\n",
       " ('architecture', 'century'): 3.78,\n",
       " ('population', 'development'): 3.75,\n",
       " ('stock', 'live'): 3.73,\n",
       " ('peace', 'atmosphere'): 3.69,\n",
       " ('morality', 'marriage'): 3.69,\n",
       " ('minority', 'peace'): 3.69,\n",
       " ('atmosphere', 'landscape'): 3.69,\n",
       " ('report', 'gain'): 3.63,\n",
       " ('music', 'project'): 3.63,\n",
       " ('seven', 'series'): 3.56,\n",
       " ('experience', 'music'): 3.47,\n",
       " ('school', 'center'): 3.44,\n",
       " ('five', 'month'): 3.38,\n",
       " ('announcement', 'production'): 3.38,\n",
       " ('morality', 'importance'): 3.31,\n",
       " ('money', 'operation'): 3.31,\n",
       " ('delay', 'news'): 3.31,\n",
       " ('governor', 'interview'): 3.25,\n",
       " ('practice', 'institution'): 3.19,\n",
       " ('century', 'nation'): 3.16,\n",
       " ('coast', 'forest'): 3.15,\n",
       " ('shore', 'woodland'): 3.08,\n",
       " ('drink', 'car'): 3.04,\n",
       " ('president', 'medal'): 3.0,\n",
       " ('prejudice', 'recognition'): 3.0,\n",
       " ('viewer', 'serial'): 2.97,\n",
       " ('peace', 'insurance'): 2.94,\n",
       " ('Mars', 'water'): 2.94,\n",
       " ('media', 'gain'): 2.88,\n",
       " ('precedent', 'cognition'): 2.81,\n",
       " ('announcement', 'effort'): 2.75,\n",
       " ('line', 'insurance'): 2.69,\n",
       " ('crane', 'implement'): 2.69,\n",
       " ('drink', 'mother'): 2.65,\n",
       " ('opera', 'industry'): 2.63,\n",
       " ('volunteer', 'motto'): 2.56,\n",
       " ('listing', 'proximity'): 2.56,\n",
       " ('precedent', 'collection'): 2.5,\n",
       " ('cup', 'article'): 2.4,\n",
       " ('sign', 'recess'): 2.38,\n",
       " ('problem', 'airport'): 2.38,\n",
       " ('reason', 'hypertension'): 2.31,\n",
       " ('direction', 'combination'): 2.25,\n",
       " ('Wednesday', 'news'): 2.22,\n",
       " ('glass', 'magician'): 2.08,\n",
       " ('cemetery', 'woodland'): 2.08,\n",
       " ('possibility', 'girl'): 1.94,\n",
       " ('cup', 'substance'): 1.92,\n",
       " ('forest', 'graveyard'): 1.85,\n",
       " ('stock', 'egg'): 1.81,\n",
       " ('month', 'hotel'): 1.81,\n",
       " ('energy', 'secretary'): 1.81,\n",
       " ('precedent', 'group'): 1.77,\n",
       " ('production', 'hike'): 1.75,\n",
       " ('stock', 'phone'): 1.62,\n",
       " ('holy', 'sex'): 1.62,\n",
       " ('stock', 'CD'): 1.31,\n",
       " ('drink', 'ear'): 1.31,\n",
       " ('delay', 'racism'): 1.19,\n",
       " ('stock', 'life'): 0.92,\n",
       " ('stock', 'jaguar'): 0.92,\n",
       " ('monk', 'slave'): 0.92,\n",
       " ('lad', 'wizard'): 0.92,\n",
       " ('sugar', 'approach'): 0.88,\n",
       " ('rooster', 'voyage'): 0.62,\n",
       " ('noon', 'string'): 0.54,\n",
       " ('chord', 'smile'): 0.54,\n",
       " ('professor', 'cucumber'): 0.31,\n",
       " ('king', 'cabbage'): 0.23}"
      ]
     },
     "execution_count": 23,
     "metadata": {},
     "output_type": "execute_result"
    }
   ],
   "source": [
    "score_map"
   ]
  },
  {
   "cell_type": "markdown",
   "metadata": {},
   "source": [
    "Отметим, что из исходного набора данных мы взяли только экспертные оценки сходства (similarity) и только для существительных. Исходный набор данных доступен по [ссылке](http://alfonseca.org/pubs/ws353simrel.tar.gz)"
   ]
  },
  {
   "cell_type": "markdown",
   "metadata": {
    "colab_type": "text",
    "id": "96B0OtKrvtaG"
   },
   "source": [
    "Посмотрим на примеры оценок. \n",
    "\n",
    "У слов может быть по несколько значений, которые различаются в WordNet. Здесь -- ради примера -- мы будем \"жадно\" выбирать первое попавшееся, но далее будем работать с ними иначе.\n",
    "\n",
    "\n"
   ]
  },
  {
   "cell_type": "code",
   "execution_count": 6,
   "metadata": {
    "colab": {
     "base_uri": "https://localhost:8080/",
     "height": 166
    },
    "colab_type": "code",
    "executionInfo": {
     "elapsed": 10602,
     "status": "ok",
     "timestamp": 1600020204121,
     "user": {
      "displayName": "Anton Alekseev",
      "photoUrl": "https://lh3.googleusercontent.com/a-/AOh14Gj3c5faIb1FbtmpoOW4fAhquuPiaBf1d85jPrZJ-g=s64",
      "userId": "02913249699061138905"
     },
     "user_tz": -180
    },
    "id": "7iXamIiZgf-O",
    "outputId": "c5b3c7ea-c476-4235-f474-b1358c584ddf"
   },
   "outputs": [
    {
     "name": "stdout",
     "output_type": "stream",
     "text": [
      "\n",
      "Words: tiger-cat\n",
      "Ground truth score: 7.35\n",
      "\n",
      "Path: 0.091 \n",
      "wup: 0.545 \n",
      "shortest_path: 10.000\n",
      "\n",
      "Words: tiger-tiger\n",
      "Ground truth score: 10.00\n",
      "\n",
      "Path: 1.000 \n",
      "wup: 0.750 \n",
      "shortest_path: 0.000\n"
     ]
    }
   ],
   "source": [
    "for w1, w2 in list(score_map)[:2]:\n",
    "  \n",
    "  print(\"\\nWords: %s-%s\\nGround truth score: %.2f\" % (w1, w2, score_map[(w1, w2)]))\n",
    "  \n",
    "  ss1 = wn.synset(w1 + \".n.01\")\n",
    "  ss2 = wn.synset(w2 + \".n.01\")\n",
    "\n",
    "  print(\"\\nPath: %.3f\" % ss1.path_similarity(ss2), end=\" \")\n",
    "  print(\"\\nwup: %.3f\" % ss1.wup_similarity(ss2), end=\" \")\n",
    "  print(\"\\nshortest_path: %.3f\" % ss1.shortest_path_distance(ss2))"
   ]
  },
  {
   "cell_type": "markdown",
   "metadata": {
    "colab_type": "text",
    "id": "ZHM7tCb0vqNp"
   },
   "source": [
    "Вычисляем для всех пар несколько оценок"
   ]
  },
  {
   "cell_type": "code",
   "execution_count": 7,
   "metadata": {
    "colab": {
     "base_uri": "https://localhost:8080/",
     "height": 54
    },
    "colab_type": "code",
    "executionInfo": {
     "elapsed": 2405,
     "status": "ok",
     "timestamp": 1600020239260,
     "user": {
      "displayName": "Anton Alekseev",
      "photoUrl": "https://lh3.googleusercontent.com/a-/AOh14Gj3c5faIb1FbtmpoOW4fAhquuPiaBf1d85jPrZJ-g=s64",
      "userId": "02913249699061138905"
     },
     "user_tz": -180
    },
    "id": "fe7Nuglqgnd3",
    "outputId": "1ffb3b01-d567-49d8-8e67-0849fac19aac"
   },
   "outputs": [
    {
     "name": "stdout",
     "output_type": "stream",
     "text": [
      "drink eat error: max() arg is an empty sequence\n",
      "stock live error: max() arg is an empty sequence\n"
     ]
    }
   ],
   "source": [
    "from itertools import product\n",
    "\n",
    "list_pairs = list(score_map)\n",
    "wup_list, true_list, path_list = [], [], []\n",
    "\n",
    "# для всех пар\n",
    "for w1, w2 in list_pairs:\n",
    "\n",
    "  try:\n",
    "    all_w1 = wn.synsets(w1, pos=\"n\")\n",
    "    all_w2 = wn.synsets(w2, pos=\"n\")\n",
    "\n",
    "    # добавляем интересующие нас метрики и экспертные оценки\n",
    "    wup = max([item1.wup_similarity(item2) \\\n",
    "                for item1, item2 in product(all_w1, all_w2)])\n",
    "    wup_list.append(wup)\n",
    "\n",
    "    path = max([item1.path_similarity(item2) \\\n",
    "                for item1, item2 in product(all_w1, all_w2)])\n",
    "    path_list.append(path)\n",
    "    \n",
    "    true_list.append(score_map[(w1, w2)])\n",
    "\n",
    "  except Exception as e:\n",
    "    print(w1, w2, \"error:\", e)"
   ]
  },
  {
   "cell_type": "markdown",
   "metadata": {
    "colab_type": "text",
    "id": "oAjuTLB0fD-I"
   },
   "source": [
    "## Вычисляем ранговую корреляцию Спирмена"
   ]
  },
  {
   "cell_type": "code",
   "execution_count": 8,
   "metadata": {
    "colab": {
     "base_uri": "https://localhost:8080/",
     "height": 73
    },
    "colab_type": "code",
    "executionInfo": {
     "elapsed": 896,
     "status": "ok",
     "timestamp": 1600020271203,
     "user": {
      "displayName": "Anton Alekseev",
      "photoUrl": "https://lh3.googleusercontent.com/a-/AOh14Gj3c5faIb1FbtmpoOW4fAhquuPiaBf1d85jPrZJ-g=s64",
      "userId": "02913249699061138905"
     },
     "user_tz": -180
    },
    "id": "fXnCdw8wxcVd",
    "outputId": "c9e2b06c-5a27-45e8-a400-36113a3d7516"
   },
   "outputs": [
    {
     "name": "stdout",
     "output_type": "stream",
     "text": [
      "wup  Spearman R: 0.6438\n",
      "path Spearman R: 0.6176\n"
     ]
    }
   ],
   "source": [
    "from scipy.stats import spearmanr\n",
    "\n",
    "coef, p = spearmanr(wup_list, true_list)\n",
    "print(\"wup  Spearman R: %.4f\" % coef)\n",
    "\n",
    "coef, p = spearmanr(path_list, true_list)\n",
    "print(\"path Spearman R: %.4f\" % coef)\n"
   ]
  },
  {
   "cell_type": "code",
   "execution_count": null,
   "metadata": {},
   "outputs": [],
   "source": []
  },
  {
   "cell_type": "markdown",
   "metadata": {},
   "source": [
    "## Факт"
   ]
  },
  {
   "cell_type": "code",
   "execution_count": 27,
   "metadata": {},
   "outputs": [
    {
     "data": {
      "text/plain": [
       "{('television', 'radio'): 6.77,\n",
       " ('focus', 'life'): 4.06,\n",
       " ('vodka', 'brandy'): 8.13,\n",
       " ('experience', 'music'): 3.47,\n",
       " ('doctor', 'nurse'): 7.0,\n",
       " ('street', 'block'): 6.88,\n",
       " ('morality', 'importance'): 3.31,\n",
       " ('lad', 'wizard'): 0.92,\n",
       " ('Mexico', 'Brazil'): 7.44,\n",
       " ('precedent', 'example'): 5.85,\n",
       " ('month', 'hotel'): 1.81,\n",
       " ('prejudice', 'recognition'): 3.0,\n",
       " ('physics', 'chemistry'): 7.35,\n",
       " ('sugar', 'approach'): 0.88,\n",
       " ('bread', 'butter'): 6.19,\n",
       " ('man', 'governor'): 5.25,\n",
       " ('sign', 'recess'): 2.38,\n",
       " ('Wednesday', 'news'): 2.22,\n",
       " ('calculation', 'computation'): 8.44,\n",
       " ('consumer', 'confidence'): 4.13,\n",
       " ('life', 'term'): 4.5,\n",
       " ('stock', 'jaguar'): 0.92,\n",
       " ('street', 'avenue'): 8.88,\n",
       " ('stock', 'CD'): 1.31,\n",
       " ('start', 'match'): 4.47,\n",
       " ('volunteer', 'motto'): 2.56,\n",
       " ('stock', 'egg'): 1.81,\n",
       " ('precedent', 'group'): 1.77,\n",
       " ('psychology', 'psychiatry'): 8.08,\n",
       " ('profit', 'loss'): 7.63,\n",
       " ('tiger', 'mammal'): 6.85,\n",
       " ('tiger', 'tiger'): 10.0,\n",
       " ('computer', 'news'): 4.47,\n",
       " ('liquid', 'water'): 7.89,\n",
       " ('century', 'nation'): 3.16,\n",
       " ('rooster', 'voyage'): 0.62,\n",
       " ('architecture', 'century'): 3.78,\n",
       " ('shore', 'woodland'): 3.08,\n",
       " ('money', 'operation'): 3.31,\n",
       " ('board', 'recommendation'): 4.47,\n",
       " ('king', 'rook'): 5.92,\n",
       " ('practice', 'institution'): 3.19,\n",
       " ('boy', 'lad'): 8.83,\n",
       " ('situation', 'conclusion'): 4.81,\n",
       " ('aluminum', 'metal'): 7.83,\n",
       " ('street', 'children'): 4.94,\n",
       " ('chance', 'credibility'): 3.88,\n",
       " ('wood', 'forest'): 7.73,\n",
       " ('furnace', 'stove'): 8.79,\n",
       " ('viewer', 'serial'): 2.97,\n",
       " ('cup', 'artifact'): 2.92,\n",
       " ('lobster', 'wine'): 5.7,\n",
       " ('monk', 'oracle'): 5.0,\n",
       " ('vodka', 'gin'): 8.46,\n",
       " ('championship', 'tournament'): 8.36,\n",
       " ('street', 'place'): 6.44,\n",
       " ('doctor', 'personnel'): 5.0,\n",
       " ('forest', 'graveyard'): 1.85,\n",
       " ('crane', 'implement'): 2.69,\n",
       " ('planet', 'sun'): 8.02,\n",
       " ('announcement', 'news'): 7.56,\n",
       " ('problem', 'airport'): 2.38,\n",
       " ('gem', 'jewel'): 8.96,\n",
       " ('coast', 'forest'): 3.15,\n",
       " ('century', 'year'): 7.59,\n",
       " ('journey', 'voyage'): 9.29,\n",
       " ('psychology', 'science'): 6.71,\n",
       " ('opera', 'performance'): 6.88,\n",
       " ('coast', 'hill'): 4.38,\n",
       " ('cup', 'substance'): 1.92,\n",
       " ('ministry', 'culture'): 4.69,\n",
       " ('king', 'cabbage'): 0.23,\n",
       " ('murder', 'manslaughter'): 8.53,\n",
       " ('music', 'project'): 3.63,\n",
       " ('bishop', 'rabbi'): 6.69,\n",
       " ('life', 'death'): 7.88,\n",
       " ('investigation', 'effort'): 4.59,\n",
       " ('start', 'year'): 4.06,\n",
       " ('dividend', 'payment'): 7.63,\n",
       " ('announcement', 'production'): 3.38,\n",
       " ('food', 'fruit'): 7.52,\n",
       " ('cup', 'food'): 5.0,\n",
       " ('dollar', 'buck'): 9.22,\n",
       " ('cup', 'object'): 3.69,\n",
       " ('line', 'insurance'): 2.69,\n",
       " ('cucumber', 'potato'): 5.92,\n",
       " ('journal', 'association'): 4.97,\n",
       " ('situation', 'isolation'): 3.88,\n",
       " ('type', 'kind'): 8.97,\n",
       " ('coast', 'shore'): 9.1,\n",
       " ('stock', 'life'): 0.92,\n",
       " ('shower', 'thunderstorm'): 6.31,\n",
       " ('travel', 'activity'): 5.0,\n",
       " ('museum', 'theater'): 7.19,\n",
       " ('fuck', 'sex'): 9.44,\n",
       " ('benchmark', 'index'): 4.25,\n",
       " ('plane', 'car'): 5.77,\n",
       " ('opera', 'industry'): 2.63,\n",
       " ('energy', 'secretary'): 1.81,\n",
       " ('car', 'automobile'): 8.94,\n",
       " ('smart', 'student'): 4.62,\n",
       " ('attempt', 'peace'): 4.25,\n",
       " ('man', 'woman'): 8.3,\n",
       " ('atmosphere', 'landscape'): 3.69,\n",
       " ('football', 'tennis'): 6.63,\n",
       " ('cemetery', 'woodland'): 2.08,\n",
       " ('jaguar', 'cat'): 7.42,\n",
       " ('Mars', 'water'): 2.94,\n",
       " ('food', 'rooster'): 4.42,\n",
       " ('monk', 'slave'): 0.92,\n",
       " ('rock', 'jazz'): 7.59,\n",
       " ('observation', 'architecture'): 4.38,\n",
       " ('magician', 'wizard'): 9.02,\n",
       " ('Harvard', 'Yale'): 8.13,\n",
       " ('money', 'cash'): 9.15,\n",
       " ('development', 'issue'): 3.97,\n",
       " ('professor', 'cucumber'): 0.31,\n",
       " ('governor', 'interview'): 3.25,\n",
       " ('midday', 'noon'): 9.29,\n",
       " ('morality', 'marriage'): 3.69,\n",
       " ('skin', 'eye'): 6.22,\n",
       " ('asylum', 'madhouse'): 8.87,\n",
       " ('cup', 'article'): 2.4,\n",
       " ('bird', 'crane'): 7.38,\n",
       " ('student', 'professor'): 6.81,\n",
       " ('mile', 'kilometer'): 8.66,\n",
       " ('phone', 'equipment'): 7.13,\n",
       " ('media', 'trading'): 3.88,\n",
       " ('peace', 'insurance'): 2.94,\n",
       " ('precedent', 'antecedent'): 6.04,\n",
       " ('tiger', 'feline'): 8.0,\n",
       " ('smart', 'stupid'): 5.81,\n",
       " ('precedent', 'cognition'): 2.81,\n",
       " ('peace', 'atmosphere'): 3.69,\n",
       " ('drink', 'ear'): 1.31,\n",
       " ('bird', 'cock'): 7.1,\n",
       " ('seafood', 'lobster'): 8.7,\n",
       " ('football', 'basketball'): 6.81,\n",
       " ('chord', 'smile'): 0.54,\n",
       " ('consumer', 'energy'): 4.75,\n",
       " ('media', 'radio'): 7.42,\n",
       " ('planet', 'moon'): 8.08,\n",
       " ('train', 'car'): 6.31,\n",
       " ('space', 'chemistry'): 4.88,\n",
       " ('seven', 'series'): 3.56,\n",
       " ('drink', 'car'): 3.04,\n",
       " ('jaguar', 'car'): 7.27,\n",
       " ('Arafat', 'Jackson'): 2.5,\n",
       " ('dollar', 'yen'): 7.78,\n",
       " ('word', 'similarity'): 4.75}"
      ]
     },
     "execution_count": 27,
     "metadata": {},
     "output_type": "execute_result"
    }
   ],
   "source": [
    "with open(\"Task_4_sample_1.csv\", encoding=\"utf-8\") as rf:\n",
    "    triples = [line.strip().split(\"\\t\")[0].split(',') for line in rf.readlines()]\n",
    "    score_map = {tuple(triple[:2]): float(triple[2]) for triple in triples[1:]}\n",
    "  \n",
    "score_map"
   ]
  },
  {
   "cell_type": "code",
   "execution_count": 31,
   "metadata": {},
   "outputs": [],
   "source": [
    "list_pairs = list(score_map)\n",
    "wup_list, true_list, lch_similarity_list, path_list = [], [], [], []\n",
    "\n",
    "# для всех пар\n",
    "for w1, w2 in list_pairs:\n",
    "\n",
    "  try:\n",
    "    all_w1 = wn.synsets(w1, pos=\"n\")\n",
    "    all_w2 = wn.synsets(w2, pos=\"n\")\n",
    "\n",
    "    # добавляем интересующие нас метрики и экспертные оценки\n",
    "    wup = max([item1.wup_similarity(item2) \\\n",
    "                for item1, item2 in product(all_w1, all_w2)])\n",
    "    wup_list.append(wup)\n",
    "\n",
    "    path = max([item1.path_similarity(item2) \\\n",
    "                for item1, item2 in product(all_w1, all_w2)])\n",
    "    path_list.append(path)\n",
    "    \n",
    "    lch_similarity = max([item1.lch_similarity(item2) \\\n",
    "                            for item1, item2 in product(all_w1, all_w2)])\n",
    "    lch_similarity_list.append(lch_similarity)\n",
    "    \n",
    "    \n",
    "    true_list.append(score_map[(w1, w2)])\n",
    "\n",
    "  except Exception as e:\n",
    "    print(w1, w2, \"error:\", e)"
   ]
  },
  {
   "cell_type": "code",
   "execution_count": 32,
   "metadata": {},
   "outputs": [
    {
     "name": "stdout",
     "output_type": "stream",
     "text": [
      "wup  Spearman R: 0.6435\n",
      "lch_similarity  Spearman R: 0.6107\n",
      "path Spearman R: 0.6107\n"
     ]
    }
   ],
   "source": [
    "coef, p = spearmanr(wup_list, true_list)\n",
    "print(\"wup  Spearman R: %.4f\" % coef)\n",
    "\n",
    "coef, p = spearmanr(lch_similarity_list, true_list)\n",
    "print(\"lch_similarity  Spearman R: %.4f\" % coef)\n",
    "\n",
    "coef, p = spearmanr(path_list, true_list)\n",
    "print(\"path Spearman R: %.4f\" % coef)\n",
    "\n"
   ]
  },
  {
   "cell_type": "code",
   "execution_count": 38,
   "metadata": {},
   "outputs": [
    {
     "data": {
      "text/plain": [
       "(['anadama_bread.n.01',\n",
       "  'bap.n.01',\n",
       "  'barmbrack.n.01',\n",
       "  'breadstick.n.01',\n",
       "  'brown_bread.n.02',\n",
       "  'bun.n.01',\n",
       "  'caraway_seed_bread.n.01',\n",
       "  'challah.n.01',\n",
       "  'cinnamon_bread.n.01',\n",
       "  'cracked-wheat_bread.n.01',\n",
       "  'cracker.n.01',\n",
       "  'crouton.n.01',\n",
       "  'dark_bread.n.01',\n",
       "  'english_muffin.n.01',\n",
       "  'flatbread.n.01',\n",
       "  'garlic_bread.n.01',\n",
       "  'gluten_bread.n.01',\n",
       "  'host.n.09',\n",
       "  'loaf_of_bread.n.01',\n",
       "  'matzo.n.01',\n",
       "  'nan.n.04',\n",
       "  'onion_bread.n.01',\n",
       "  'quick_bread.n.01',\n",
       "  'raisin_bread.n.01',\n",
       "  'rye_bread.n.01',\n",
       "  'salt-rising_bread.n.01',\n",
       "  'simnel.n.01',\n",
       "  'sour_bread.n.01',\n",
       "  'toast.n.01',\n",
       "  'wafer.n.03',\n",
       "  'white_bread.n.01'],\n",
       " 31)"
      ]
     },
     "execution_count": 38,
     "metadata": {},
     "output_type": "execute_result"
    }
   ],
   "source": [
    "ss = wn.synset('bread.n.01')\n",
    "(sorted([i.name() for i in ss.hyponyms()]), len(ss.hyponyms()))"
   ]
  }
 ],
 "metadata": {
  "colab": {
   "authorship_tag": "ABX9TyMdSweN9al2eyjg9hAVK+U1",
   "collapsed_sections": [],
   "name": "04_лексические ресурсы.ipynb",
   "provenance": []
  },
  "kernelspec": {
   "display_name": "lms_nlp",
   "language": "python",
   "name": "python3"
  },
  "language_info": {
   "codemirror_mode": {
    "name": "ipython",
    "version": 3
   },
   "file_extension": ".py",
   "mimetype": "text/x-python",
   "name": "python",
   "nbconvert_exporter": "python",
   "pygments_lexer": "ipython3",
   "version": "3.11.9"
  }
 },
 "nbformat": 4,
 "nbformat_minor": 4
}
